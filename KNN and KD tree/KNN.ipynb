{
 "cells": [
  {
   "cell_type": "code",
   "execution_count": 30,
   "metadata": {},
   "outputs": [],
   "source": [
    "import numpy\n",
    "\n",
    "\"\"\"\n",
    "Created on 2018/10/10\n",
    "KNN\n",
    "@author: jiayang tian\n",
    "\"\"\"\n",
    "\n",
    "from numpy import *\n",
    "import operator\n",
    "class KNNClassifier():\n",
    "    def __init__(self,k=3):\n",
    "        self._k=k\n",
    "    def _calDistance(self,inputX,trainX):\n",
    "        dataSetSize=trainX.shape[0]\n",
    "        # tile for array and repeat for matrix in Python\n",
    "        diffMat=tile(inputX,(dataSetSize,1))-trainX\n",
    "        sqDiffMat=diffMat**2\n",
    "        # take the sum of difference from all dimensions,axis=0是按列求和,axis=1 是按行求和\n",
    "        sqDistances=sqDiffMat.sum(axis=1)\n",
    "        distances=sqDistances**0.5\n",
    "        # argsort returns the indices that would sort an array.argsort函数返回的是数组值从小到大的索引值\n",
    "        # http://www.cnblogs.com/100thMountain/p/4719503.html\n",
    "        # find the k nearest neighbours\n",
    "        sortedDistIndicies = distances.argsort()\n",
    "        return sortedDistIndicies\n",
    "    def _classify(self,sample,trainX,trainY):\n",
    "        if isinstance(sample,ndarray) and isinstance(trainX,ndarray) and isinstance(trainY,ndarray):\n",
    "            pass\n",
    "        else:\n",
    "            try:\n",
    "                sample=array(sample)\n",
    "                trainX=array(trainX)\n",
    "                trainY=array(trainY)\n",
    "            except:\n",
    "               raise TypeError(\"numpy.ndarray required for trainX and ..\")\n",
    "        sortedDistIndicies=self._calDistance(sample,trainX)\n",
    "        classCount={}#create the dictionary\n",
    "        for i in range(self._k):\n",
    "            label=trainY[sortedDistIndicies[i]]\n",
    "            classCount[label]=classCount.get(label,0)+1\n",
    "            #get(label,0) : if dictionary 'classCount' exist key 'label', return classCount[label]; else return 0\n",
    "        sorteditem=sorted(classCount.items(),key=operator.itemgetter(1),reverse=True)\n",
    "        #operator.itemgetter(1) can be substituted by 'key = lambda x: x[1]'\n",
    "        return sorteditem[0][0]\n",
    "    def classify(self,inputX,trainX,trainY):\n",
    "        if isinstance(inputX,ndarray) and isinstance(trainX,ndarray) \\\n",
    "            and isinstance(trainY,ndarray):\n",
    "            pass\n",
    "        else:\n",
    "            try:\n",
    "                inputX = array(inputX)\n",
    "                trainX = array(trainX)\n",
    "                trainY = array(trainY)\n",
    "            except:\n",
    "              raise TypeError(\"numpy.ndarray required for trainX and ..\")\n",
    "        d = len(shape(inputX))\n",
    "        results=[]\n",
    "        if d == 1:\n",
    "            result = self._classify(inputX,trainX,trainY)\n",
    "            results.append(result)\n",
    "        else:\n",
    "            for i in range(len(inputX)):\n",
    "                result = self._classify(inputX[i],trainX,trainY)\n",
    "                results.append(result)\n",
    "        return results"
   ]
  },
  {
   "cell_type": "code",
   "execution_count": 31,
   "metadata": {},
   "outputs": [
    {
     "name": "stdout",
     "output_type": "stream",
     "text": [
      "['B', 'B']\n"
     ]
    }
   ],
   "source": [
    "if __name__==\"__main__\":\n",
    "    trainX = [[1,1.1],\n",
    "              [1,1],\n",
    "              [0,0],\n",
    "              [0,0.1]]\n",
    "    trainY = ['A','A','B','B']\n",
    "    clf=KNNClassifier(k=3)\n",
    "    inputX = [[0,0.1],[0,0]]\n",
    "    result = clf.classify(inputX,trainX,trainY)\n",
    "    print (result)"
   ]
  }
 ],
 "metadata": {
  "kernelspec": {
   "display_name": "Python 3",
   "language": "python",
   "name": "python3"
  },
  "language_info": {
   "codemirror_mode": {
    "name": "ipython",
    "version": 3
   },
   "file_extension": ".py",
   "mimetype": "text/x-python",
   "name": "python",
   "nbconvert_exporter": "python",
   "pygments_lexer": "ipython3",
   "version": "3.6.5"
  }
 },
 "nbformat": 4,
 "nbformat_minor": 2
}
